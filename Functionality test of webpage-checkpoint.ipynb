{
 "cells": [
  {
   "cell_type": "code",
   "execution_count": null,
   "id": "27e9bf95",
   "metadata": {},
   "outputs": [],
   "source": [
    "from selenium import webdriver\n",
    "\n",
    "import time\n",
    "\n",
    "#welcome page :\n",
    "\n",
    "driver=webdriver.Chrome(\"C:\\\\Users\\\\user\\\\Desktop\\\\driver\\\\chromedriver\")\n",
    "driver.get(\"https://www.google.com\")\n",
    "#driver.maximize_window()\n",
    "driver.find_element_by_name(\"q\").send_keys(\"moi-id.life\")\n",
    "driver.find_element_by_xpath('/html/body/div[1]/div[3]/form/div[1]/div[1]/div[3]/center/input[1]').click()\n",
    "driver.find_element_by_xpath('//*[@id=\"rso\"]/div[1]/div/div/div[1]/a/h3').click()\n",
    "time.sleep(3)\n",
    "driver.save_screenshot('C:\\\\Users\\\\user\\\\Desktop\\\\screenshot\\welcome.png')\n",
    "driver.find_element_by_id('digitalme-link').click()\n",
    "time.sleep(4)\n",
    "driver.save_screenshot('C:\\\\Users\\\\user\\\\Desktop\\\\tc_1\\\\digital.png')\n",
    "contact_name=driver.find_element_by_id('name')\n",
    "contact_name.send_keys('niyog')\n",
    "mail=driver.find_element_by_name('contact-email')\n",
    "mail.send_keys('1234@yahoo.com')\n",
    "message=driver.find_element_by_xpath('//*[@id=\"message\"]')\n",
    "message.send_keys('hello')\n",
    "driver.save_screenshot('C:\\\\Users\\\\user\\\\Desktop\\\\screenshot\\contact.png')\n",
    "time.sleep(3)\n",
    "driver.back()\n",
    "time.sleep(3)\n",
    "driver.find_element_by_xpath('//*[@id=\"navbarResponsive\"]/ul/li[3]/a').click()\n",
    "driver.save_screenshot('C:\\\\Users\\\\user\\\\Desktop\\\\screenshot\\why.png')\n",
    "time.sleep(3)\n",
    "driver.back()\n",
    "driver.find_element_by_xpath('//*[@id=\"navbarResponsive\"]/ul/li[4]/a').click()\n",
    "time.sleep(10)\n",
    "driver.save_screenshot('C:\\\\Users\\\\user\\\\Desktop\\\\screenshot\\\\tech.png')\n",
    "handles=driver.window_handles\n",
    "for i in handles:\n",
    "    driver.switch_to.window(i)\n",
    "    print(driver.title)\n",
    "    if driver.title=='Moi ID - Own and Control your Digital Interactions':\n",
    "        driver.switch_to.window(handles)\n",
    "    break\n",
    "driver.find_element_by_xpath('//*[@id=\"navbarResponsive\"]/ul/li[5]/a').click()\n",
    "#after switch handling iam not able to move further\n",
    "# i tried for login test but when i right click on username i didnt get inspect option\n"
   ]
  }
 ],
 "metadata": {
  "kernelspec": {
   "display_name": "Python 3",
   "language": "python",
   "name": "python3"
  },
  "language_info": {
   "codemirror_mode": {
    "name": "ipython",
    "version": 3
   },
   "file_extension": ".py",
   "mimetype": "text/x-python",
   "name": "python",
   "nbconvert_exporter": "python",
   "pygments_lexer": "ipython3",
   "version": "3.8.8"
  }
 },
 "nbformat": 4,
 "nbformat_minor": 5
}
